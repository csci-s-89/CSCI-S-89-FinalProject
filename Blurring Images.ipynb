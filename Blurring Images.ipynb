{
 "cells": [
  {
   "cell_type": "markdown",
   "id": "e4691a32-518a-4ae1-a2a8-9cf0c4078847",
   "metadata": {},
   "source": [
    "# Blurring CELEBA Dataset"
   ]
  },
  {
   "cell_type": "code",
   "execution_count": null,
   "id": "8678f93c-c3a8-49ae-8e9b-efadc1ff2cec",
   "metadata": {},
   "outputs": [],
   "source": [
    "import cv2\n",
    "import numpy as np\n",
    "\n",
    "def add_noise(image):\n",
    "    noise = np.random.normal(0, 25, image.shape)\n",
    "    noisy_image = np.clip(image + noise, 0, 255).astype(np.uint8)\n",
    "    return noisy_image\n",
    "\n",
    "# Example of creating distorted images\n",
    "clean_images = [...]  # List of clean images\n",
    "distorted_images = [add_noise(image) for image in clean_images]\n"
   ]
  },
  {
   "cell_type": "code",
   "execution_count": null,
   "id": "51a919f7-1ea9-43cc-8220-43146f9b88ce",
   "metadata": {},
   "outputs": [],
   "source": [
    "def add_noise(image):\n",
    "    noise = np.random.normal(0, 100, image.shape)\n",
    "    noisy_image = np.clip(image + noise, 0, 255).astype(np.uint8)\n",
    "    return noisy_image"
   ]
  }
 ],
 "metadata": {
  "kernelspec": {
   "display_name": "Python 3 (ipykernel)",
   "language": "python",
   "name": "python3"
  },
  "language_info": {
   "codemirror_mode": {
    "name": "ipython",
    "version": 3
   },
   "file_extension": ".py",
   "mimetype": "text/x-python",
   "name": "python",
   "nbconvert_exporter": "python",
   "pygments_lexer": "ipython3",
   "version": "3.12.4"
  }
 },
 "nbformat": 4,
 "nbformat_minor": 5
}
